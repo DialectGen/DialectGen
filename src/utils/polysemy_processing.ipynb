{
 "cells": [
  {
   "cell_type": "code",
   "execution_count": 2,
   "metadata": {},
   "outputs": [],
   "source": [
    "import os\n",
    "import glob\n",
    "import pandas as pd\n",
    "\n",
    "# Define input and output directories.\n",
    "input_folder = '/local1/bryanzhou008/Dialect/multimodal-dialectal-bias/data/text/detailed'\n",
    "output_folder = '/local1/bryanzhou008/Dialect/multimodal-dialectal-bias/data/text/polysemy_detailed'\n",
    "\n",
    "# Create the output directory if it doesn't exist.\n",
    "os.makedirs(output_folder, exist_ok=True)\n",
    "\n",
    "# Retrieve all CSV files in the input folder.\n",
    "csv_files = glob.glob(os.path.join(input_folder, '*.csv'))\n",
    "\n",
    "for csv_file in csv_files:\n",
    "    # Read the CSV file.\n",
    "    df = pd.read_csv(csv_file)\n",
    "    \n",
    "    # Check that every value in the 'polysemic' column is either 0 or 1.\n",
    "    if not df['polysemic'].isin([0, 1]).all():\n",
    "        raise ValueError(f\"File {os.path.basename(csv_file)} has invalid 'polysemic' values.\")\n",
    "    \n",
    "    # Filter rows where 'polysemic' equals 1.\n",
    "    df_poly = df[df['polysemic'] == 1]\n",
    "    \n",
    "    # Define the output file path (same file name as input).\n",
    "    output_file = os.path.join(output_folder, os.path.basename(csv_file))\n",
    "    \n",
    "    # Save the filtered rows to the new CSV.\n",
    "    df_poly.to_csv(output_file, index=False)\n"
   ]
  }
 ],
 "metadata": {
  "kernelspec": {
   "display_name": "dialect",
   "language": "python",
   "name": "python3"
  },
  "language_info": {
   "codemirror_mode": {
    "name": "ipython",
    "version": 3
   },
   "file_extension": ".py",
   "mimetype": "text/x-python",
   "name": "python",
   "nbconvert_exporter": "python",
   "pygments_lexer": "ipython3",
   "version": "3.8.16"
  }
 },
 "nbformat": 4,
 "nbformat_minor": 2
}
