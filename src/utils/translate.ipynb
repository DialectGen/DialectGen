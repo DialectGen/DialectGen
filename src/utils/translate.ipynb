{
 "cells": [
  {
   "cell_type": "markdown",
   "id": "c9a1fd8d",
   "metadata": {},
   "source": [
    "# Extract dialect prompt columns"
   ]
  },
  {
   "cell_type": "code",
   "execution_count": 2,
   "id": "0a82dcc6",
   "metadata": {},
   "outputs": [
    {
     "name": "stdout",
     "output_type": "stream",
     "text": [
      "✅ aae.csv → detailed_translate/aae.csv\n",
      "✅ bre.csv → detailed_translate/bre.csv\n",
      "✅ che.csv → detailed_translate/che.csv\n",
      "✅ ine.csv → detailed_translate/ine.csv\n",
      "✅ sge.csv → detailed_translate/sge.csv\n"
     ]
    }
   ],
   "source": [
    "# ----------------- configurable folder paths -----------------\n",
    "from pathlib import Path\n",
    "\n",
    "SRC_DIR  = Path(\"/local1/bryanzhou008/Dialect/multimodal-dialectal-bias/data/text/detailed\")\n",
    "DEST_DIR = Path(\"/local1/bryanzhou008/Dialect/multimodal-dialectal-bias/data/text/detailed_translate\")\n",
    "# -------------------------------------------------------------\n",
    "\n",
    "import pandas as pd\n",
    "\n",
    "# Create the destination folder (and any missing parents) if it doesn’t exist\n",
    "DEST_DIR.mkdir(parents=True, exist_ok=True)\n",
    "\n",
    "# Process every *.csv file in the source folder\n",
    "for csv_path in SRC_DIR.glob(\"*.csv\"):\n",
    "    # Read the file, keep only the Dialect_Prompt column\n",
    "    df = pd.read_csv(csv_path, dtype=str, keep_default_na=False)\n",
    "    dialect_only = df[[\"Dialect_Prompt\"]]\n",
    "\n",
    "    # Save under the same filename inside DEST_DIR\n",
    "    out_path = DEST_DIR / csv_path.name\n",
    "    dialect_only.to_csv(out_path, index=False)\n",
    "\n",
    "    print(f\"✅ {csv_path.name} → {out_path.relative_to(DEST_DIR.parent)}\")\n"
   ]
  },
  {
   "cell_type": "markdown",
   "id": "e48587b7",
   "metadata": {},
   "source": [
    "# Check for Overlap and Duplicates"
   ]
  },
  {
   "cell_type": "code",
   "execution_count": 22,
   "id": "cb5c024c",
   "metadata": {},
   "outputs": [],
   "source": [
    "import os\n",
    "import pandas as pd\n",
    "from collections import defaultdict\n",
    "\n",
    "# Define paths (you can modify these as needed)\n",
    "CONCISE_DIR = \"/local1/bryanzhou008/Dialect/multimodal-dialectal-bias/data/text/concise\"\n",
    "DETAILED_DIR = \"/local1/bryanzhou008/Dialect/multimodal-dialectal-bias/data/text/detailed\"\n",
    "\n",
    "# Dictionary to store results\n",
    "overlap_results = defaultdict(list)\n",
    "\n",
    "# List all CSV files in the concise folder\n",
    "csv_filenames = [f for f in os.listdir(CONCISE_DIR) if f.endswith(\".csv\")]\n",
    "\n",
    "# Iterate through each CSV file\n",
    "for filename in csv_filenames:\n",
    "    # Read the two corresponding CSV files\n",
    "    concise_df = pd.read_csv(os.path.join(CONCISE_DIR, filename))\n",
    "    detailed_df = pd.read_csv(os.path.join(DETAILED_DIR, filename))\n",
    "    \n",
    "    # Get the set of \"Dialect_Prompt\" values from the detailed file for fast lookup\n",
    "    detailed_prompts = set(detailed_df[\"Dialect_Prompt\"].dropna())\n",
    "    \n",
    "    # Iterate through concise \"Dialect_Prompt\" values and check for overlaps\n",
    "    for idx, row in concise_df.iterrows():\n",
    "        prompt = row[\"Dialect_Prompt\"]\n",
    "        if prompt in detailed_prompts:\n",
    "            overlap_results[filename].append((prompt, idx))  # store the prompt and its row index\n",
    "\n",
    "# Print results aggregated by file name\n",
    "for fname, matches in overlap_results.items():\n",
    "    print(f\"--- Overlaps in file: {fname} ---\")\n",
    "    for prompt, idx in matches:\n",
    "        print(f\"[Row {idx}] {prompt}\")\n",
    "    print()\n"
   ]
  },
  {
   "cell_type": "code",
   "execution_count": 29,
   "id": "0953804b",
   "metadata": {},
   "outputs": [
    {
     "name": "stdout",
     "output_type": "stream",
     "text": [
      "✅ No duplicate Dialect_Prompt entries found in any CSV file.\n"
     ]
    }
   ],
   "source": [
    "import os\n",
    "import pandas as pd\n",
    "from collections import defaultdict\n",
    "\n",
    "# --- CONFIGURATION ---\n",
    "INPUT_DIR = \"/local1/bryanzhou008/Dialect/multimodal-dialectal-bias/data/text/concise\"\n",
    "\n",
    "# --- SCRIPT ---\n",
    "duplicate_prompts_by_file = defaultdict(list)\n",
    "\n",
    "for filename in os.listdir(INPUT_DIR):\n",
    "    if filename.endswith(\".csv\"):\n",
    "        filepath = os.path.join(INPUT_DIR, filename)\n",
    "        df = pd.read_csv(filepath)\n",
    "\n",
    "        if \"Dialect_Prompt\" in df.columns:\n",
    "            # Identify duplicate prompts\n",
    "            duplicated = df[df.duplicated(subset=[\"Dialect_Prompt\"], keep=False)]\n",
    "            if not duplicated.empty:\n",
    "                duplicate_prompts_by_file[filename] = duplicated[\"Dialect_Prompt\"].unique().tolist()\n",
    "\n",
    "# --- OUTPUT ---\n",
    "if duplicate_prompts_by_file:\n",
    "    for file, prompts in duplicate_prompts_by_file.items():\n",
    "        print(f\"📁 {file} has {len(prompts)} duplicate Dialect_Prompt entries:\")\n",
    "        for prompt in prompts:\n",
    "            print(f\"   - {prompt}\")\n",
    "        print()\n",
    "else:\n",
    "    print(\"✅ No duplicate Dialect_Prompt entries found in any CSV file.\")\n"
   ]
  },
  {
   "cell_type": "code",
   "execution_count": 30,
   "id": "fcac8739",
   "metadata": {},
   "outputs": [
    {
     "name": "stdout",
     "output_type": "stream",
     "text": [
      "✅ No duplicate Dialect_Prompt entries found in any CSV file.\n"
     ]
    }
   ],
   "source": [
    "import os\n",
    "import pandas as pd\n",
    "from collections import defaultdict\n",
    "\n",
    "# --- CONFIGURATION ---\n",
    "INPUT_DIR = \"/local1/bryanzhou008/Dialect/multimodal-dialectal-bias/data/text/detailed\"\n",
    "\n",
    "# --- SCRIPT ---\n",
    "duplicate_prompts_by_file = defaultdict(list)\n",
    "\n",
    "for filename in os.listdir(INPUT_DIR):\n",
    "    if filename.endswith(\".csv\"):\n",
    "        filepath = os.path.join(INPUT_DIR, filename)\n",
    "        df = pd.read_csv(filepath)\n",
    "\n",
    "        if \"Dialect_Prompt\" in df.columns:\n",
    "            # Identify duplicate prompts\n",
    "            duplicated = df[df.duplicated(subset=[\"Dialect_Prompt\"], keep=False)]\n",
    "            if not duplicated.empty:\n",
    "                duplicate_prompts_by_file[filename] = duplicated[\"Dialect_Prompt\"].unique().tolist()\n",
    "\n",
    "# --- OUTPUT ---\n",
    "if duplicate_prompts_by_file:\n",
    "    for file, prompts in duplicate_prompts_by_file.items():\n",
    "        print(f\"📁 {file} has {len(prompts)} duplicate Dialect_Prompt entries:\")\n",
    "        for prompt in prompts:\n",
    "            print(f\"   - {prompt}\")\n",
    "        print()\n",
    "else:\n",
    "    print(\"✅ No duplicate Dialect_Prompt entries found in any CSV file.\")\n"
   ]
  }
 ],
 "metadata": {
  "kernelspec": {
   "display_name": "dialect",
   "language": "python",
   "name": "python3"
  },
  "language_info": {
   "codemirror_mode": {
    "name": "ipython",
    "version": 3
   },
   "file_extension": ".py",
   "mimetype": "text/x-python",
   "name": "python",
   "nbconvert_exporter": "python",
   "pygments_lexer": "ipython3",
   "version": "3.8.16"
  }
 },
 "nbformat": 4,
 "nbformat_minor": 5
}
