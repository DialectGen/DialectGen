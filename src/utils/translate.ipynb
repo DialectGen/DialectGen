{
 "cells": [
  {
   "cell_type": "markdown",
   "id": "312c9b6d",
   "metadata": {},
   "source": [
    "# Translate with llamm3 8b"
   ]
  },
  {
   "cell_type": "code",
   "execution_count": null,
   "id": "3c9593c9",
   "metadata": {},
   "outputs": [],
   "source": [
    "translation_prompt = rf\"If the following prompt is in Standard American English, please do not change it and reply with the exact same prompt, otherwise please translate it into Standard American English and reply with your final translated prompt, please do not output anything else besides your final response prompt. Here is the prompt: {prompt}\""
   ]
  },
  {
   "cell_type": "code",
   "execution_count": null,
   "id": "2cd062f8",
   "metadata": {},
   "outputs": [],
   "source": []
  }
 ],
 "metadata": {
  "kernelspec": {
   "display_name": "dialect",
   "language": "python",
   "name": "python3"
  },
  "language_info": {
   "name": "python",
   "version": "3.8.16"
  }
 },
 "nbformat": 4,
 "nbformat_minor": 5
}
